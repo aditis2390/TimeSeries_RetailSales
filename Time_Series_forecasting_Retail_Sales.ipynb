{
 "cells": [
  {
   "cell_type": "code",
   "execution_count": 152,
   "metadata": {},
   "outputs": [],
   "source": [
    "# import necessary libraries\n",
    "\n",
    "import pandas as pd\n",
    "import numpy as np\n",
    "import matplotlib.pyplot as plt\n",
    "import seaborn as sns\n",
    "import warnings\n",
    "warnings.filterwarnings(\"ignore\")\n",
    "from datetime import datetime \n",
    "from pandas import Series as Series\n",
    "\n",
    "import statsmodels.api as sm\n",
    "from statsmodels.graphics.tsaplots import plot_acf\n",
    "from statsmodels.graphics.tsaplots import plot_pacf\n",
    "import itertools\n",
    "import scipy.stats as stats"
   ]
  },
  {
   "cell_type": "code",
   "execution_count": 2,
   "metadata": {},
   "outputs": [
    {
     "data": {
      "text/html": [
       "<div>\n",
       "<style scoped>\n",
       "    .dataframe tbody tr th:only-of-type {\n",
       "        vertical-align: middle;\n",
       "    }\n",
       "\n",
       "    .dataframe tbody tr th {\n",
       "        vertical-align: top;\n",
       "    }\n",
       "\n",
       "    .dataframe thead th {\n",
       "        text-align: right;\n",
       "    }\n",
       "</style>\n",
       "<table border=\"1\" class=\"dataframe\">\n",
       "  <thead>\n",
       "    <tr style=\"text-align: right;\">\n",
       "      <th></th>\n",
       "      <th>date</th>\n",
       "      <th>date_block_num</th>\n",
       "      <th>shop_id</th>\n",
       "      <th>item_id</th>\n",
       "      <th>item_price</th>\n",
       "      <th>item_cnt_day</th>\n",
       "    </tr>\n",
       "  </thead>\n",
       "  <tbody>\n",
       "    <tr>\n",
       "      <td>0</td>\n",
       "      <td>02.01.2013</td>\n",
       "      <td>0</td>\n",
       "      <td>59</td>\n",
       "      <td>22154</td>\n",
       "      <td>999.00</td>\n",
       "      <td>1.0</td>\n",
       "    </tr>\n",
       "    <tr>\n",
       "      <td>1</td>\n",
       "      <td>03.01.2013</td>\n",
       "      <td>0</td>\n",
       "      <td>25</td>\n",
       "      <td>2552</td>\n",
       "      <td>899.00</td>\n",
       "      <td>1.0</td>\n",
       "    </tr>\n",
       "    <tr>\n",
       "      <td>2</td>\n",
       "      <td>05.01.2013</td>\n",
       "      <td>0</td>\n",
       "      <td>25</td>\n",
       "      <td>2552</td>\n",
       "      <td>899.00</td>\n",
       "      <td>-1.0</td>\n",
       "    </tr>\n",
       "    <tr>\n",
       "      <td>3</td>\n",
       "      <td>06.01.2013</td>\n",
       "      <td>0</td>\n",
       "      <td>25</td>\n",
       "      <td>2554</td>\n",
       "      <td>1709.05</td>\n",
       "      <td>1.0</td>\n",
       "    </tr>\n",
       "    <tr>\n",
       "      <td>4</td>\n",
       "      <td>15.01.2013</td>\n",
       "      <td>0</td>\n",
       "      <td>25</td>\n",
       "      <td>2555</td>\n",
       "      <td>1099.00</td>\n",
       "      <td>1.0</td>\n",
       "    </tr>\n",
       "    <tr>\n",
       "      <td>5</td>\n",
       "      <td>10.01.2013</td>\n",
       "      <td>0</td>\n",
       "      <td>25</td>\n",
       "      <td>2564</td>\n",
       "      <td>349.00</td>\n",
       "      <td>1.0</td>\n",
       "    </tr>\n",
       "    <tr>\n",
       "      <td>6</td>\n",
       "      <td>02.01.2013</td>\n",
       "      <td>0</td>\n",
       "      <td>25</td>\n",
       "      <td>2565</td>\n",
       "      <td>549.00</td>\n",
       "      <td>1.0</td>\n",
       "    </tr>\n",
       "    <tr>\n",
       "      <td>7</td>\n",
       "      <td>04.01.2013</td>\n",
       "      <td>0</td>\n",
       "      <td>25</td>\n",
       "      <td>2572</td>\n",
       "      <td>239.00</td>\n",
       "      <td>1.0</td>\n",
       "    </tr>\n",
       "    <tr>\n",
       "      <td>8</td>\n",
       "      <td>11.01.2013</td>\n",
       "      <td>0</td>\n",
       "      <td>25</td>\n",
       "      <td>2572</td>\n",
       "      <td>299.00</td>\n",
       "      <td>1.0</td>\n",
       "    </tr>\n",
       "    <tr>\n",
       "      <td>9</td>\n",
       "      <td>03.01.2013</td>\n",
       "      <td>0</td>\n",
       "      <td>25</td>\n",
       "      <td>2573</td>\n",
       "      <td>299.00</td>\n",
       "      <td>3.0</td>\n",
       "    </tr>\n",
       "    <tr>\n",
       "      <td>10</td>\n",
       "      <td>03.01.2013</td>\n",
       "      <td>0</td>\n",
       "      <td>25</td>\n",
       "      <td>2574</td>\n",
       "      <td>399.00</td>\n",
       "      <td>2.0</td>\n",
       "    </tr>\n",
       "    <tr>\n",
       "      <td>11</td>\n",
       "      <td>05.01.2013</td>\n",
       "      <td>0</td>\n",
       "      <td>25</td>\n",
       "      <td>2574</td>\n",
       "      <td>399.00</td>\n",
       "      <td>1.0</td>\n",
       "    </tr>\n",
       "    <tr>\n",
       "      <td>12</td>\n",
       "      <td>07.01.2013</td>\n",
       "      <td>0</td>\n",
       "      <td>25</td>\n",
       "      <td>2574</td>\n",
       "      <td>399.00</td>\n",
       "      <td>1.0</td>\n",
       "    </tr>\n",
       "    <tr>\n",
       "      <td>13</td>\n",
       "      <td>08.01.2013</td>\n",
       "      <td>0</td>\n",
       "      <td>25</td>\n",
       "      <td>2574</td>\n",
       "      <td>399.00</td>\n",
       "      <td>2.0</td>\n",
       "    </tr>\n",
       "    <tr>\n",
       "      <td>14</td>\n",
       "      <td>10.01.2013</td>\n",
       "      <td>0</td>\n",
       "      <td>25</td>\n",
       "      <td>2574</td>\n",
       "      <td>399.00</td>\n",
       "      <td>1.0</td>\n",
       "    </tr>\n",
       "    <tr>\n",
       "      <td>15</td>\n",
       "      <td>11.01.2013</td>\n",
       "      <td>0</td>\n",
       "      <td>25</td>\n",
       "      <td>2574</td>\n",
       "      <td>399.00</td>\n",
       "      <td>2.0</td>\n",
       "    </tr>\n",
       "    <tr>\n",
       "      <td>16</td>\n",
       "      <td>13.01.2013</td>\n",
       "      <td>0</td>\n",
       "      <td>25</td>\n",
       "      <td>2574</td>\n",
       "      <td>399.00</td>\n",
       "      <td>1.0</td>\n",
       "    </tr>\n",
       "    <tr>\n",
       "      <td>17</td>\n",
       "      <td>16.01.2013</td>\n",
       "      <td>0</td>\n",
       "      <td>25</td>\n",
       "      <td>2574</td>\n",
       "      <td>399.00</td>\n",
       "      <td>1.0</td>\n",
       "    </tr>\n",
       "    <tr>\n",
       "      <td>18</td>\n",
       "      <td>26.01.2013</td>\n",
       "      <td>0</td>\n",
       "      <td>25</td>\n",
       "      <td>2574</td>\n",
       "      <td>399.00</td>\n",
       "      <td>1.0</td>\n",
       "    </tr>\n",
       "    <tr>\n",
       "      <td>19</td>\n",
       "      <td>27.01.2013</td>\n",
       "      <td>0</td>\n",
       "      <td>25</td>\n",
       "      <td>2574</td>\n",
       "      <td>399.00</td>\n",
       "      <td>1.0</td>\n",
       "    </tr>\n",
       "  </tbody>\n",
       "</table>\n",
       "</div>"
      ],
      "text/plain": [
       "          date  date_block_num  shop_id  item_id  item_price  item_cnt_day\n",
       "0   02.01.2013               0       59    22154      999.00           1.0\n",
       "1   03.01.2013               0       25     2552      899.00           1.0\n",
       "2   05.01.2013               0       25     2552      899.00          -1.0\n",
       "3   06.01.2013               0       25     2554     1709.05           1.0\n",
       "4   15.01.2013               0       25     2555     1099.00           1.0\n",
       "5   10.01.2013               0       25     2564      349.00           1.0\n",
       "6   02.01.2013               0       25     2565      549.00           1.0\n",
       "7   04.01.2013               0       25     2572      239.00           1.0\n",
       "8   11.01.2013               0       25     2572      299.00           1.0\n",
       "9   03.01.2013               0       25     2573      299.00           3.0\n",
       "10  03.01.2013               0       25     2574      399.00           2.0\n",
       "11  05.01.2013               0       25     2574      399.00           1.0\n",
       "12  07.01.2013               0       25     2574      399.00           1.0\n",
       "13  08.01.2013               0       25     2574      399.00           2.0\n",
       "14  10.01.2013               0       25     2574      399.00           1.0\n",
       "15  11.01.2013               0       25     2574      399.00           2.0\n",
       "16  13.01.2013               0       25     2574      399.00           1.0\n",
       "17  16.01.2013               0       25     2574      399.00           1.0\n",
       "18  26.01.2013               0       25     2574      399.00           1.0\n",
       "19  27.01.2013               0       25     2574      399.00           1.0"
      ]
     },
     "execution_count": 2,
     "metadata": {},
     "output_type": "execute_result"
    }
   ],
   "source": [
    "# read input data\n",
    "\n",
    "#1. training data set\n",
    "daily_sales=pd.read_csv(\"sales_train.csv\")\n",
    "daily_sales.head(20)"
   ]
  },
  {
   "cell_type": "code",
   "execution_count": 3,
   "metadata": {},
   "outputs": [
    {
     "data": {
      "text/html": [
       "<div>\n",
       "<style scoped>\n",
       "    .dataframe tbody tr th:only-of-type {\n",
       "        vertical-align: middle;\n",
       "    }\n",
       "\n",
       "    .dataframe tbody tr th {\n",
       "        vertical-align: top;\n",
       "    }\n",
       "\n",
       "    .dataframe thead th {\n",
       "        text-align: right;\n",
       "    }\n",
       "</style>\n",
       "<table border=\"1\" class=\"dataframe\">\n",
       "  <thead>\n",
       "    <tr style=\"text-align: right;\">\n",
       "      <th></th>\n",
       "      <th>shop_name</th>\n",
       "    </tr>\n",
       "    <tr>\n",
       "      <th>shop_id</th>\n",
       "      <th></th>\n",
       "    </tr>\n",
       "  </thead>\n",
       "  <tbody>\n",
       "    <tr>\n",
       "      <td>0</td>\n",
       "      <td>!Якутск Орджоникидзе, 56 фран</td>\n",
       "    </tr>\n",
       "    <tr>\n",
       "      <td>1</td>\n",
       "      <td>!Якутск ТЦ \"Центральный\" фран</td>\n",
       "    </tr>\n",
       "    <tr>\n",
       "      <td>2</td>\n",
       "      <td>Адыгея ТЦ \"Мега\"</td>\n",
       "    </tr>\n",
       "    <tr>\n",
       "      <td>3</td>\n",
       "      <td>Балашиха ТРК \"Октябрь-Киномир\"</td>\n",
       "    </tr>\n",
       "    <tr>\n",
       "      <td>4</td>\n",
       "      <td>Волжский ТЦ \"Волга Молл\"</td>\n",
       "    </tr>\n",
       "  </tbody>\n",
       "</table>\n",
       "</div>"
      ],
      "text/plain": [
       "                              shop_name\n",
       "shop_id                                \n",
       "0         !Якутск Орджоникидзе, 56 фран\n",
       "1         !Якутск ТЦ \"Центральный\" фран\n",
       "2                      Адыгея ТЦ \"Мега\"\n",
       "3        Балашиха ТРК \"Октябрь-Киномир\"\n",
       "4              Волжский ТЦ \"Волга Молл\""
      ]
     },
     "execution_count": 3,
     "metadata": {},
     "output_type": "execute_result"
    }
   ],
   "source": [
    "#2. supplemental info for shops\n",
    "\n",
    "shops=pd.read_csv(\"shops.csv\")\n",
    "shops.set_index('shop_id', inplace=True)\n",
    "shops.head()"
   ]
  },
  {
   "cell_type": "code",
   "execution_count": 4,
   "metadata": {},
   "outputs": [
    {
     "data": {
      "text/html": [
       "<div>\n",
       "<style scoped>\n",
       "    .dataframe tbody tr th:only-of-type {\n",
       "        vertical-align: middle;\n",
       "    }\n",
       "\n",
       "    .dataframe tbody tr th {\n",
       "        vertical-align: top;\n",
       "    }\n",
       "\n",
       "    .dataframe thead th {\n",
       "        text-align: right;\n",
       "    }\n",
       "</style>\n",
       "<table border=\"1\" class=\"dataframe\">\n",
       "  <thead>\n",
       "    <tr style=\"text-align: right;\">\n",
       "      <th></th>\n",
       "      <th>item_category_name</th>\n",
       "    </tr>\n",
       "    <tr>\n",
       "      <th>item_category_id</th>\n",
       "      <th></th>\n",
       "    </tr>\n",
       "  </thead>\n",
       "  <tbody>\n",
       "    <tr>\n",
       "      <td>0</td>\n",
       "      <td>PC - Гарнитуры/Наушники</td>\n",
       "    </tr>\n",
       "    <tr>\n",
       "      <td>1</td>\n",
       "      <td>Аксессуары - PS2</td>\n",
       "    </tr>\n",
       "    <tr>\n",
       "      <td>2</td>\n",
       "      <td>Аксессуары - PS3</td>\n",
       "    </tr>\n",
       "    <tr>\n",
       "      <td>3</td>\n",
       "      <td>Аксессуары - PS4</td>\n",
       "    </tr>\n",
       "    <tr>\n",
       "      <td>4</td>\n",
       "      <td>Аксессуары - PSP</td>\n",
       "    </tr>\n",
       "  </tbody>\n",
       "</table>\n",
       "</div>"
      ],
      "text/plain": [
       "                       item_category_name\n",
       "item_category_id                         \n",
       "0                 PC - Гарнитуры/Наушники\n",
       "1                        Аксессуары - PS2\n",
       "2                        Аксессуары - PS3\n",
       "3                        Аксессуары - PS4\n",
       "4                        Аксессуары - PSP"
      ]
     },
     "execution_count": 4,
     "metadata": {},
     "output_type": "execute_result"
    }
   ],
   "source": [
    "#3. supplemental info for item_categories\n",
    "\n",
    "cats=pd.read_csv(\"item_categories.csv\")\n",
    "cats.set_index('item_category_id', inplace=True)\n",
    "cats.head()\n",
    "#cats.describe()"
   ]
  },
  {
   "cell_type": "code",
   "execution_count": 5,
   "metadata": {},
   "outputs": [
    {
     "data": {
      "text/html": [
       "<div>\n",
       "<style scoped>\n",
       "    .dataframe tbody tr th:only-of-type {\n",
       "        vertical-align: middle;\n",
       "    }\n",
       "\n",
       "    .dataframe tbody tr th {\n",
       "        vertical-align: top;\n",
       "    }\n",
       "\n",
       "    .dataframe thead th {\n",
       "        text-align: right;\n",
       "    }\n",
       "</style>\n",
       "<table border=\"1\" class=\"dataframe\">\n",
       "  <thead>\n",
       "    <tr style=\"text-align: right;\">\n",
       "      <th></th>\n",
       "      <th>item_name</th>\n",
       "      <th>item_category_id</th>\n",
       "    </tr>\n",
       "    <tr>\n",
       "      <th>item_id</th>\n",
       "      <th></th>\n",
       "      <th></th>\n",
       "    </tr>\n",
       "  </thead>\n",
       "  <tbody>\n",
       "    <tr>\n",
       "      <td>0</td>\n",
       "      <td>! ВО ВЛАСТИ НАВАЖДЕНИЯ (ПЛАСТ.)         D</td>\n",
       "      <td>40</td>\n",
       "    </tr>\n",
       "    <tr>\n",
       "      <td>1</td>\n",
       "      <td>!ABBYY FineReader 12 Professional Edition Full...</td>\n",
       "      <td>76</td>\n",
       "    </tr>\n",
       "    <tr>\n",
       "      <td>2</td>\n",
       "      <td>***В ЛУЧАХ СЛАВЫ   (UNV)                    D</td>\n",
       "      <td>40</td>\n",
       "    </tr>\n",
       "    <tr>\n",
       "      <td>3</td>\n",
       "      <td>***ГОЛУБАЯ ВОЛНА  (Univ)                      D</td>\n",
       "      <td>40</td>\n",
       "    </tr>\n",
       "    <tr>\n",
       "      <td>4</td>\n",
       "      <td>***КОРОБКА (СТЕКЛО)                       D</td>\n",
       "      <td>40</td>\n",
       "    </tr>\n",
       "  </tbody>\n",
       "</table>\n",
       "</div>"
      ],
      "text/plain": [
       "                                                 item_name  item_category_id\n",
       "item_id                                                                     \n",
       "0                ! ВО ВЛАСТИ НАВАЖДЕНИЯ (ПЛАСТ.)         D                40\n",
       "1        !ABBYY FineReader 12 Professional Edition Full...                76\n",
       "2            ***В ЛУЧАХ СЛАВЫ   (UNV)                    D                40\n",
       "3          ***ГОЛУБАЯ ВОЛНА  (Univ)                      D                40\n",
       "4              ***КОРОБКА (СТЕКЛО)                       D                40"
      ]
     },
     "execution_count": 5,
     "metadata": {},
     "output_type": "execute_result"
    }
   ],
   "source": [
    "#4. additional info regarding items\n",
    "\n",
    "items=pd.read_csv(\"items.csv\")\n",
    "items.set_index('item_id', inplace=True)\n",
    "items.head()\n",
    "#items.describe()"
   ]
  },
  {
   "cell_type": "markdown",
   "metadata": {},
   "source": [
    "##### It is observed that the same category_id has multiple item_names listed"
   ]
  },
  {
   "cell_type": "code",
   "execution_count": 6,
   "metadata": {},
   "outputs": [
    {
     "data": {
      "text/html": [
       "<div>\n",
       "<style scoped>\n",
       "    .dataframe tbody tr th:only-of-type {\n",
       "        vertical-align: middle;\n",
       "    }\n",
       "\n",
       "    .dataframe tbody tr th {\n",
       "        vertical-align: top;\n",
       "    }\n",
       "\n",
       "    .dataframe thead th {\n",
       "        text-align: right;\n",
       "    }\n",
       "</style>\n",
       "<table border=\"1\" class=\"dataframe\">\n",
       "  <thead>\n",
       "    <tr style=\"text-align: right;\">\n",
       "      <th></th>\n",
       "      <th>shop_id</th>\n",
       "      <th>item_id</th>\n",
       "    </tr>\n",
       "    <tr>\n",
       "      <th>ID</th>\n",
       "      <th></th>\n",
       "      <th></th>\n",
       "    </tr>\n",
       "  </thead>\n",
       "  <tbody>\n",
       "    <tr>\n",
       "      <td>0</td>\n",
       "      <td>5</td>\n",
       "      <td>5037</td>\n",
       "    </tr>\n",
       "    <tr>\n",
       "      <td>1</td>\n",
       "      <td>5</td>\n",
       "      <td>5320</td>\n",
       "    </tr>\n",
       "    <tr>\n",
       "      <td>2</td>\n",
       "      <td>5</td>\n",
       "      <td>5233</td>\n",
       "    </tr>\n",
       "    <tr>\n",
       "      <td>3</td>\n",
       "      <td>5</td>\n",
       "      <td>5232</td>\n",
       "    </tr>\n",
       "    <tr>\n",
       "      <td>4</td>\n",
       "      <td>5</td>\n",
       "      <td>5268</td>\n",
       "    </tr>\n",
       "  </tbody>\n",
       "</table>\n",
       "</div>"
      ],
      "text/plain": [
       "    shop_id  item_id\n",
       "ID                  \n",
       "0         5     5037\n",
       "1         5     5320\n",
       "2         5     5233\n",
       "3         5     5232\n",
       "4         5     5268"
      ]
     },
     "execution_count": 6,
     "metadata": {},
     "output_type": "execute_result"
    }
   ],
   "source": [
    "# read test data\n",
    "\n",
    "test_file=pd.read_csv(\"test.csv\")\n",
    "test_file.set_index('ID', inplace=True)\n",
    "test_file.head()"
   ]
  },
  {
   "cell_type": "markdown",
   "metadata": {},
   "source": [
    "## Data Preprocessing"
   ]
  },
  {
   "cell_type": "code",
   "execution_count": 7,
   "metadata": {},
   "outputs": [
    {
     "data": {
      "text/plain": [
       "date              0\n",
       "date_block_num    0\n",
       "shop_id           0\n",
       "item_id           0\n",
       "item_price        0\n",
       "item_cnt_day      0\n",
       "dtype: int64"
      ]
     },
     "execution_count": 7,
     "metadata": {},
     "output_type": "execute_result"
    }
   ],
   "source": [
    "# check for missingness\n",
    "daily_sales.isnull().sum()"
   ]
  },
  {
   "cell_type": "code",
   "execution_count": 8,
   "metadata": {},
   "outputs": [
    {
     "data": {
      "text/plain": [
       "array([ 0,  1,  2,  3,  4,  5,  6,  7,  8,  9, 10, 11, 12, 13, 14, 15, 16,\n",
       "       17, 18, 19, 20, 21, 22, 23, 24, 25, 26, 27, 28, 29, 30, 31, 32, 33],\n",
       "      dtype=int64)"
      ]
     },
     "execution_count": 8,
     "metadata": {},
     "output_type": "execute_result"
    }
   ],
   "source": [
    "# column date_block_num is a consecutive number indicating the month-year from Jan2013-Oct2015\n",
    "daily_sales['date_block_num'].unique()\n",
    "# so, we have a total of 34 months of observations"
   ]
  },
  {
   "cell_type": "code",
   "execution_count": 9,
   "metadata": {},
   "outputs": [
    {
     "data": {
      "text/html": [
       "<div>\n",
       "<style scoped>\n",
       "    .dataframe tbody tr th:only-of-type {\n",
       "        vertical-align: middle;\n",
       "    }\n",
       "\n",
       "    .dataframe tbody tr th {\n",
       "        vertical-align: top;\n",
       "    }\n",
       "\n",
       "    .dataframe thead th {\n",
       "        text-align: right;\n",
       "    }\n",
       "</style>\n",
       "<table border=\"1\" class=\"dataframe\">\n",
       "  <thead>\n",
       "    <tr style=\"text-align: right;\">\n",
       "      <th></th>\n",
       "      <th>date_block_num</th>\n",
       "      <th>shop_id</th>\n",
       "      <th>item_cnt_day</th>\n",
       "    </tr>\n",
       "  </thead>\n",
       "  <tbody>\n",
       "    <tr>\n",
       "      <td>0</td>\n",
       "      <td>0</td>\n",
       "      <td>0</td>\n",
       "      <td>5578.0</td>\n",
       "    </tr>\n",
       "    <tr>\n",
       "      <td>1</td>\n",
       "      <td>0</td>\n",
       "      <td>1</td>\n",
       "      <td>2947.0</td>\n",
       "    </tr>\n",
       "    <tr>\n",
       "      <td>2</td>\n",
       "      <td>0</td>\n",
       "      <td>2</td>\n",
       "      <td>1146.0</td>\n",
       "    </tr>\n",
       "    <tr>\n",
       "      <td>3</td>\n",
       "      <td>0</td>\n",
       "      <td>3</td>\n",
       "      <td>767.0</td>\n",
       "    </tr>\n",
       "    <tr>\n",
       "      <td>4</td>\n",
       "      <td>0</td>\n",
       "      <td>4</td>\n",
       "      <td>2114.0</td>\n",
       "    </tr>\n",
       "    <tr>\n",
       "      <td>5</td>\n",
       "      <td>0</td>\n",
       "      <td>6</td>\n",
       "      <td>3686.0</td>\n",
       "    </tr>\n",
       "    <tr>\n",
       "      <td>6</td>\n",
       "      <td>0</td>\n",
       "      <td>7</td>\n",
       "      <td>2495.0</td>\n",
       "    </tr>\n",
       "    <tr>\n",
       "      <td>7</td>\n",
       "      <td>0</td>\n",
       "      <td>8</td>\n",
       "      <td>1463.0</td>\n",
       "    </tr>\n",
       "    <tr>\n",
       "      <td>8</td>\n",
       "      <td>0</td>\n",
       "      <td>10</td>\n",
       "      <td>935.0</td>\n",
       "    </tr>\n",
       "    <tr>\n",
       "      <td>9</td>\n",
       "      <td>0</td>\n",
       "      <td>12</td>\n",
       "      <td>842.0</td>\n",
       "    </tr>\n",
       "  </tbody>\n",
       "</table>\n",
       "</div>"
      ],
      "text/plain": [
       "   date_block_num  shop_id  item_cnt_day\n",
       "0               0        0        5578.0\n",
       "1               0        1        2947.0\n",
       "2               0        2        1146.0\n",
       "3               0        3         767.0\n",
       "4               0        4        2114.0\n",
       "5               0        6        3686.0\n",
       "6               0        7        2495.0\n",
       "7               0        8        1463.0\n",
       "8               0       10         935.0\n",
       "9               0       12         842.0"
      ]
     },
     "execution_count": 9,
     "metadata": {},
     "output_type": "execute_result"
    }
   ],
   "source": [
    "# step 1. aggregate sales at monthly level for a particular shop_id\n",
    "monthly_sales=daily_sales.groupby(['date_block_num','shop_id'], as_index=False).agg({'item_cnt_day':'sum'})\n",
    "monthly_sales.head(10)"
   ]
  },
  {
   "cell_type": "code",
   "execution_count": 180,
   "metadata": {},
   "outputs": [],
   "source": [
    "#monthly_sales.sort_values(by='date_block_num', ascending=False)"
   ]
  },
  {
   "cell_type": "code",
   "execution_count": 10,
   "metadata": {},
   "outputs": [
    {
     "data": {
      "text/plain": [
       "(1586, 3)"
      ]
     },
     "execution_count": 10,
     "metadata": {},
     "output_type": "execute_result"
    }
   ],
   "source": [
    "monthly_sales.shape"
   ]
  },
  {
   "cell_type": "code",
   "execution_count": 11,
   "metadata": {},
   "outputs": [
    {
     "name": "stdout",
     "output_type": "stream",
     "text": [
      "date_block_num      int64\n",
      "shop_id             int64\n",
      "item_cnt_day      float64\n",
      "dtype: object\n"
     ]
    }
   ],
   "source": [
    "print(monthly_sales.dtypes)"
   ]
  },
  {
   "cell_type": "code",
   "execution_count": 16,
   "metadata": {},
   "outputs": [
    {
     "data": {
      "text/html": [
       "<div>\n",
       "<style scoped>\n",
       "    .dataframe tbody tr th:only-of-type {\n",
       "        vertical-align: middle;\n",
       "    }\n",
       "\n",
       "    .dataframe tbody tr th {\n",
       "        vertical-align: top;\n",
       "    }\n",
       "\n",
       "    .dataframe thead th {\n",
       "        text-align: right;\n",
       "    }\n",
       "</style>\n",
       "<table border=\"1\" class=\"dataframe\">\n",
       "  <thead>\n",
       "    <tr style=\"text-align: right;\">\n",
       "      <th></th>\n",
       "      <th>shop_id</th>\n",
       "      <th>monthly_sales</th>\n",
       "    </tr>\n",
       "    <tr>\n",
       "      <th>date_block_num</th>\n",
       "      <th></th>\n",
       "      <th></th>\n",
       "    </tr>\n",
       "  </thead>\n",
       "  <tbody>\n",
       "    <tr>\n",
       "      <td>0</td>\n",
       "      <td>31</td>\n",
       "      <td>10173.0</td>\n",
       "    </tr>\n",
       "    <tr>\n",
       "      <td>1</td>\n",
       "      <td>31</td>\n",
       "      <td>11160.0</td>\n",
       "    </tr>\n",
       "    <tr>\n",
       "      <td>2</td>\n",
       "      <td>31</td>\n",
       "      <td>12670.0</td>\n",
       "    </tr>\n",
       "    <tr>\n",
       "      <td>3</td>\n",
       "      <td>31</td>\n",
       "      <td>9621.0</td>\n",
       "    </tr>\n",
       "    <tr>\n",
       "      <td>4</td>\n",
       "      <td>31</td>\n",
       "      <td>9423.0</td>\n",
       "    </tr>\n",
       "    <tr>\n",
       "      <td>5</td>\n",
       "      <td>31</td>\n",
       "      <td>10072.0</td>\n",
       "    </tr>\n",
       "    <tr>\n",
       "      <td>6</td>\n",
       "      <td>31</td>\n",
       "      <td>9500.0</td>\n",
       "    </tr>\n",
       "    <tr>\n",
       "      <td>7</td>\n",
       "      <td>31</td>\n",
       "      <td>9882.0</td>\n",
       "    </tr>\n",
       "    <tr>\n",
       "      <td>8</td>\n",
       "      <td>31</td>\n",
       "      <td>11204.0</td>\n",
       "    </tr>\n",
       "    <tr>\n",
       "      <td>9</td>\n",
       "      <td>31</td>\n",
       "      <td>10754.0</td>\n",
       "    </tr>\n",
       "    <tr>\n",
       "      <td>10</td>\n",
       "      <td>31</td>\n",
       "      <td>11710.0</td>\n",
       "    </tr>\n",
       "    <tr>\n",
       "      <td>11</td>\n",
       "      <td>31</td>\n",
       "      <td>16318.0</td>\n",
       "    </tr>\n",
       "    <tr>\n",
       "      <td>12</td>\n",
       "      <td>31</td>\n",
       "      <td>10017.0</td>\n",
       "    </tr>\n",
       "    <tr>\n",
       "      <td>13</td>\n",
       "      <td>31</td>\n",
       "      <td>9728.0</td>\n",
       "    </tr>\n",
       "    <tr>\n",
       "      <td>14</td>\n",
       "      <td>31</td>\n",
       "      <td>9643.0</td>\n",
       "    </tr>\n",
       "    <tr>\n",
       "      <td>15</td>\n",
       "      <td>31</td>\n",
       "      <td>8897.0</td>\n",
       "    </tr>\n",
       "    <tr>\n",
       "      <td>16</td>\n",
       "      <td>31</td>\n",
       "      <td>7826.0</td>\n",
       "    </tr>\n",
       "    <tr>\n",
       "      <td>17</td>\n",
       "      <td>31</td>\n",
       "      <td>7701.0</td>\n",
       "    </tr>\n",
       "    <tr>\n",
       "      <td>18</td>\n",
       "      <td>31</td>\n",
       "      <td>7056.0</td>\n",
       "    </tr>\n",
       "    <tr>\n",
       "      <td>19</td>\n",
       "      <td>31</td>\n",
       "      <td>8248.0</td>\n",
       "    </tr>\n",
       "    <tr>\n",
       "      <td>20</td>\n",
       "      <td>31</td>\n",
       "      <td>8583.0</td>\n",
       "    </tr>\n",
       "    <tr>\n",
       "      <td>21</td>\n",
       "      <td>31</td>\n",
       "      <td>8457.0</td>\n",
       "    </tr>\n",
       "    <tr>\n",
       "      <td>22</td>\n",
       "      <td>31</td>\n",
       "      <td>9865.0</td>\n",
       "    </tr>\n",
       "    <tr>\n",
       "      <td>23</td>\n",
       "      <td>31</td>\n",
       "      <td>14610.0</td>\n",
       "    </tr>\n",
       "    <tr>\n",
       "      <td>24</td>\n",
       "      <td>31</td>\n",
       "      <td>8815.0</td>\n",
       "    </tr>\n",
       "    <tr>\n",
       "      <td>25</td>\n",
       "      <td>31</td>\n",
       "      <td>7404.0</td>\n",
       "    </tr>\n",
       "    <tr>\n",
       "      <td>26</td>\n",
       "      <td>31</td>\n",
       "      <td>7294.0</td>\n",
       "    </tr>\n",
       "    <tr>\n",
       "      <td>27</td>\n",
       "      <td>31</td>\n",
       "      <td>7341.0</td>\n",
       "    </tr>\n",
       "    <tr>\n",
       "      <td>28</td>\n",
       "      <td>31</td>\n",
       "      <td>6327.0</td>\n",
       "    </tr>\n",
       "    <tr>\n",
       "      <td>29</td>\n",
       "      <td>31</td>\n",
       "      <td>6160.0</td>\n",
       "    </tr>\n",
       "    <tr>\n",
       "      <td>30</td>\n",
       "      <td>31</td>\n",
       "      <td>5987.0</td>\n",
       "    </tr>\n",
       "    <tr>\n",
       "      <td>31</td>\n",
       "      <td>31</td>\n",
       "      <td>5714.0</td>\n",
       "    </tr>\n",
       "    <tr>\n",
       "      <td>32</td>\n",
       "      <td>31</td>\n",
       "      <td>6505.0</td>\n",
       "    </tr>\n",
       "    <tr>\n",
       "      <td>33</td>\n",
       "      <td>31</td>\n",
       "      <td>6112.0</td>\n",
       "    </tr>\n",
       "  </tbody>\n",
       "</table>\n",
       "</div>"
      ],
      "text/plain": [
       "                shop_id  monthly_sales\n",
       "date_block_num                        \n",
       "0                    31        10173.0\n",
       "1                    31        11160.0\n",
       "2                    31        12670.0\n",
       "3                    31         9621.0\n",
       "4                    31         9423.0\n",
       "5                    31        10072.0\n",
       "6                    31         9500.0\n",
       "7                    31         9882.0\n",
       "8                    31        11204.0\n",
       "9                    31        10754.0\n",
       "10                   31        11710.0\n",
       "11                   31        16318.0\n",
       "12                   31        10017.0\n",
       "13                   31         9728.0\n",
       "14                   31         9643.0\n",
       "15                   31         8897.0\n",
       "16                   31         7826.0\n",
       "17                   31         7701.0\n",
       "18                   31         7056.0\n",
       "19                   31         8248.0\n",
       "20                   31         8583.0\n",
       "21                   31         8457.0\n",
       "22                   31         9865.0\n",
       "23                   31        14610.0\n",
       "24                   31         8815.0\n",
       "25                   31         7404.0\n",
       "26                   31         7294.0\n",
       "27                   31         7341.0\n",
       "28                   31         6327.0\n",
       "29                   31         6160.0\n",
       "30                   31         5987.0\n",
       "31                   31         5714.0\n",
       "32                   31         6505.0\n",
       "33                   31         6112.0"
      ]
     },
     "execution_count": 16,
     "metadata": {},
     "output_type": "execute_result"
    }
   ],
   "source": [
    "# step 2: let's focus on a single series- plot the monthly sales for any shop id (for e.g. ids 25 or 31)\n",
    "monthly_sales_31=monthly_sales.loc[(monthly_sales['shop_id']==31)]\n",
    "monthly_sales_31.set_index('date_block_num',inplace=True)\n",
    "monthly_sales_31.rename(columns={'item_cnt_day':'monthly_sales'}, inplace=True)\n",
    "monthly_sales_31.head(50)"
   ]
  },
  {
   "cell_type": "code",
   "execution_count": 20,
   "metadata": {},
   "outputs": [
    {
     "data": {
      "image/png": "[encoded data removed]",
      "text/plain": [
       "<Figure size 432x288 with 1 Axes>"
      ]
     },
     "metadata": {
      "needs_background": "light"
     },
     "output_type": "display_data"
    }
   ],
   "source": [
    "# step 3: plot the univariate time series data\n",
    "plt.plot(monthly_sales_31['monthly_sales'], data=monthly_sales_31)\n",
    "plt.title(\"Vizualise time series data - Monthly Sales for Shop. 31\")\n",
    "plt.xlabel(\"Number of Months\")\n",
    "plt.ylabel(\"Sales\")\n",
    "plt.show()"
   ]
  },
  {
   "cell_type": "markdown",
   "metadata": {},
   "source": [
    "#### Observations: The data displays difference in trend, mean, and appears to be seasonal as well."
   ]
  },
  {
   "cell_type": "code",
   "execution_count": 24,
   "metadata": {},
   "outputs": [
    {
     "data": {
      "image/png": "[encoded data removed]",
      "text/plain": [
       "<Figure size 432x288 with 4 Axes>"
      ]
     },
     "metadata": {
      "needs_background": "light"
     },
     "output_type": "display_data"
    }
   ],
   "source": [
    "# step 4: decompose the series into trend, seasonality and noise\n",
    "\n",
    "result_m=sm.tsa.seasonal_decompose(monthly_sales_31['monthly_sales'], freq=12, model='multiplicative')\n",
    "fig=result_m.plot() \n",
    "plt.show()"
   ]
  },
  {
   "cell_type": "code",
   "execution_count": 25,
   "metadata": {},
   "outputs": [
    {
     "data": {
      "image/png": "[encoded data removed]",
      "text/plain": [
       "<Figure size 432x288 with 4 Axes>"
      ]
     },
     "metadata": {
      "needs_background": "light"
     },
     "output_type": "display_data"
    }
   ],
   "source": [
    "result_ad=sm.tsa.seasonal_decompose(monthly_sales_31['monthly_sales'], freq=12, model='additive')\n",
    "fig=result_ad.plot() \n",
    "plt.show()"
   ]
  },
  {
   "cell_type": "markdown",
   "metadata": {},
   "source": [
    "#### Since the seasonal components seem dependent on trend, we choose an additive model for decomposition. Further, an additive model is easier for computation and understanding. "
   ]
  },
  {
   "cell_type": "markdown",
   "metadata": {},
   "source": [
    "### (Weak) Stationarity\n",
    "\n",
    "#### 1. constant mean\n",
    "#### 2. constant finite variance\n",
    "#### 3. covariance between two datapoints depends only on the lag 'k between them"
   ]
  },
  {
   "cell_type": "code",
   "execution_count": 220,
   "metadata": {},
   "outputs": [
    {
     "name": "stdout",
     "output_type": "stream",
     "text": [
      "ADF Statistic: -2.560753\n",
      "p-value: 0.101383\n",
      "Critical Values:\n",
      "\t1%: -3.646\n",
      "\t5%: -2.954\n",
      "\t10%: -2.616\n"
     ]
    }
   ],
   "source": [
    "# ADF test\n",
    "# Null hypothesis: there is a unit root and hence, series is homogenous non- stationary\n",
    "\n",
    "# When we assume only constant\n",
    "X=monthly_sales_31['monthly_sales']\n",
    "results_st=sm.tsa.stattools.adfuller(X, maxlag=6, regression='c', autolag='AIC')\n",
    "print('ADF Statistic: %f' % results_st[0])\n",
    "print('p-value: %f' % results_st[1])\n",
    "print('Critical Values:')\n",
    "for key, value in results_st[4].items():\n",
    "    print('\\t%s: %.3f' % (key, value))"
   ]
  },
  {
   "cell_type": "markdown",
   "metadata": {},
   "source": [
    "#### We fail to reject the null at 5% l.o.s, thus, the data is non-stationary"
   ]
  },
  {
   "cell_type": "code",
   "execution_count": 35,
   "metadata": {},
   "outputs": [
    {
     "name": "stdout",
     "output_type": "stream",
     "text": [
      "ADF Statistic: -3.786549\n",
      "p-value: 0.017254\n",
      "Critical Values:\n",
      "\t1%: -4.263\n",
      "\t5%: -3.553\n",
      "\t10%: -3.210\n"
     ]
    }
   ],
   "source": [
    "# When we assume a constant and trend\n",
    "results_st=sm.tsa.stattools.adfuller(X, maxlag=6, regression='ct', autolag='AIC')\n",
    "print('ADF Statistic: %f' % results_st[0])\n",
    "print('p-value: %f' % results_st[1])\n",
    "print('Critical Values:')\n",
    "for key, value in results_st[4].items():\n",
    "    print('\\t%s: %.3f' % (key, value))"
   ]
  },
  {
   "cell_type": "markdown",
   "metadata": {},
   "source": [
    "#### Assuming a non-zero constant and trend, we reject the null hypothesis of non-stationarity at 5%. Hence, data is stationary.\n",
    "\n",
    "### KPSS tests:"
   ]
  },
  {
   "cell_type": "code",
   "execution_count": 41,
   "metadata": {},
   "outputs": [
    {
     "name": "stdout",
     "output_type": "stream",
     "text": [
      "KPSS Statistic: 0.424835\n",
      "p-value: 0.066451\n",
      "Critical Values:\n",
      "\t10%: 0.347\n",
      "\t5%: 0.463\n",
      "\t2.5%: 0.574\n",
      "\t1%: 0.739\n"
     ]
    }
   ],
   "source": [
    "# KPSS test\n",
    "# Null hypothesis: series is level stationary\n",
    "\n",
    "results_st=sm.tsa.stattools.kpss(X, regression='c')\n",
    "print('KPSS Statistic: %f' % results_st[0])\n",
    "print('p-value: %f' % results_st[1])\n",
    "print('Critical Values:')\n",
    "for key, value in results_st[3].items():\n",
    "    print('\\t%s: %.3f' % (key, value))"
   ]
  },
  {
   "cell_type": "markdown",
   "metadata": {},
   "source": [
    "#### At 5% level of significance, we observe that the data is level stationary."
   ]
  },
  {
   "cell_type": "code",
   "execution_count": 42,
   "metadata": {},
   "outputs": [
    {
     "name": "stdout",
     "output_type": "stream",
     "text": [
      "KPSS Statistic: 0.193131\n",
      "p-value: 0.018576\n",
      "Critical Values:\n",
      "\t10%: 0.119\n",
      "\t5%: 0.146\n",
      "\t2.5%: 0.176\n",
      "\t1%: 0.216\n"
     ]
    }
   ],
   "source": [
    "# KPSS test\n",
    "# Null hypothesis: series is trend stationary\n",
    "\n",
    "results_st=sm.tsa.stattools.kpss(X, regression='ct')\n",
    "print('KPSS Statistic: %f' % results_st[0])\n",
    "print('p-value: %f' % results_st[1])\n",
    "print('Critical Values:')\n",
    "for key, value in results_st[3].items():\n",
    "    print('\\t%s: %.3f' % (key, value))"
   ]
  },
  {
   "cell_type": "markdown",
   "metadata": {},
   "source": [
    "#### At 5% level of significance, we reject the null hypothesis and hence, the data is trend non-stationary.\n",
    "\n",
    "\n",
    "#### Let's treat the data for trend non-stationarity by using first order differencing. Before differencing, let's also look at the ACF, PACF graphs."
   ]
  },
  {
   "cell_type": "code",
   "execution_count": 93,
   "metadata": {},
   "outputs": [
    {
     "data": {
      "image/png": "[encoded data removed]",
      "text/plain": [
       "<Figure size 1080x360 with 2 Axes>"
      ]
     },
     "metadata": {
      "needs_background": "light"
     },
     "output_type": "display_data"
    }
   ],
   "source": [
    "fig, ax=plt.subplots(1,2, figsize=(15,5))\n",
    "\n",
    "acf_plot=plot_acf(X, alpha=0.05, ax=ax[0])\n",
    "pacf_plot=plot_pacf(X,alpha=0.05, ax=ax[1])\n",
    "plt.show()"
   ]
  },
  {
   "cell_type": "markdown",
   "metadata": {},
   "source": [
    "#### The ACF plots indicates exponential decay with cut-off at lag 1 (q=1). PACF cuts-off at lag 1 (p=1).The above indicates a ARMA(1,1) model. "
   ]
  },
  {
   "cell_type": "markdown",
   "metadata": {},
   "source": [
    "### First Order Differencing"
   ]
  },
  {
   "cell_type": "code",
   "execution_count": 65,
   "metadata": {},
   "outputs": [],
   "source": [
    "# function for creating a differenced series\n",
    "def difference(ts, interval=1):\n",
    "    diff=list()\n",
    "    for i in range(interval, len(ts)):\n",
    "        value=ts[i]-ts[i-interval]\n",
    "        diff.append(value)\n",
    "    return Series(diff)\n",
    "\n",
    "# function for converting the differenced series back into original form\n",
    "def inverse_difference(last_obs, value):\n",
    "    return value + last_obs"
   ]
  },
  {
   "cell_type": "code",
   "execution_count": 68,
   "metadata": {},
   "outputs": [
    {
     "data": {
      "image/png": "[encoded data removed]",
      "text/plain": [
       "<Figure size 432x288 with 1 Axes>"
      ]
     },
     "metadata": {
      "needs_background": "light"
     },
     "output_type": "display_data"
    }
   ],
   "source": [
    "# FOD for monthly sales\n",
    "diff_X=difference(X)\n",
    "plt.plot(diff_X)\n",
    "plt.title(\"De-trended monthly sales using first order differencing\")\n",
    "plt.show()"
   ]
  },
  {
   "cell_type": "code",
   "execution_count": 79,
   "metadata": {},
   "outputs": [
    {
     "data": {
      "image/png": "[encoded data removed]",
      "text/plain": [
       "<Figure size 1080x360 with 2 Axes>"
      ]
     },
     "metadata": {
      "needs_background": "light"
     },
     "output_type": "display_data"
    }
   ],
   "source": [
    "# there is a definite seasonal nature to the data\n",
    "diff_X_10=difference(X,10)\n",
    "diff_X_12=difference(X,12)\n",
    "\n",
    "fig, ax=plt.subplots(1,2,figsize=(15,5))\n",
    "\n",
    "ax[0].plot(diff_X_10)\n",
    "ax[0].set_title(\"De-seasonalize monthly sales- 10 months\")\n",
    "ax[1].plot(diff_X_12)\n",
    "ax[1].set_title(\"De-seasonalize monthly sales-12 months\")\n",
    "plt.show()\n"
   ]
  },
  {
   "cell_type": "markdown",
   "metadata": {},
   "source": [
    "#### Seasonality over 12 months is considered for de-seasonalizing"
   ]
  },
  {
   "cell_type": "code",
   "execution_count": 83,
   "metadata": {},
   "outputs": [
    {
     "data": {
      "image/png": "[encoded data removed]",
      "text/plain": [
       "<Figure size 1080x720 with 3 Axes>"
      ]
     },
     "metadata": {
      "needs_background": "light"
     },
     "output_type": "display_data"
    }
   ],
   "source": [
    "# De-trended and de-seasonalized monthly sales are shown below:\n",
    "\n",
    "fig, ax=plt.subplots(3,1,figsize=(15,10))\n",
    "\n",
    "ax[0].plot(X)\n",
    "ax[0].set_title(\"Original Monthly Sales\")\n",
    "ax[1].plot(diff_X)\n",
    "\n",
    "ax[1].set_title(\" De-trended monthly sales- First order difference\")\n",
    "ax[2].plot(diff_X_12)\n",
    "ax[2].set_title(\"De-seasonalized monthly sales-12 months\")\n",
    "plt.show()"
   ]
  },
  {
   "cell_type": "code",
   "execution_count": 84,
   "metadata": {},
   "outputs": [
    {
     "name": "stdout",
     "output_type": "stream",
     "text": [
      "ADF Statistic: -5.408361\n",
      "p-value: 0.000003\n",
      "Critical Values:\n",
      "\t1%: -3.788\n",
      "\t5%: -3.013\n",
      "\t10%: -2.646\n"
     ]
    }
   ],
   "source": [
    "# check for stationarity\n",
    "\n",
    "#ADF, regression=drift\n",
    "results_st=sm.tsa.stattools.adfuller(diff_X_12, maxlag=6, regression='c', autolag='AIC')\n",
    "print('ADF Statistic: %f' % results_st[0])\n",
    "print('p-value: %f' % results_st[1])\n",
    "print('Critical Values:')\n",
    "for key, value in results_st[4].items():\n",
    "    print('\\t%s: %.3f' % (key, value))"
   ]
  },
  {
   "cell_type": "code",
   "execution_count": 86,
   "metadata": {},
   "outputs": [
    {
     "name": "stdout",
     "output_type": "stream",
     "text": [
      "ADF Statistic: -5.210603\n",
      "p-value: 0.000084\n",
      "Critical Values:\n",
      "\t1%: -4.469\n",
      "\t5%: -3.645\n",
      "\t10%: -3.261\n"
     ]
    }
   ],
   "source": [
    "#ADF, regression=trend+drift\n",
    "results_st=sm.tsa.stattools.adfuller(diff_X_12, maxlag=6, regression='ct', autolag='AIC')\n",
    "print('ADF Statistic: %f' % results_st[0])\n",
    "print('p-value: %f' % results_st[1])\n",
    "print('Critical Values:')\n",
    "for key, value in results_st[4].items():\n",
    "    print('\\t%s: %.3f' % (key, value))"
   ]
  },
  {
   "cell_type": "markdown",
   "metadata": {},
   "source": [
    "### ADF test results: The null hypothesis is rejected at 5% level of significance. Thus, the treated series is stationary."
   ]
  },
  {
   "cell_type": "code",
   "execution_count": 89,
   "metadata": {},
   "outputs": [
    {
     "name": "stdout",
     "output_type": "stream",
     "text": [
      "KPSS Statistic: 0.259349\n",
      "p-value: 0.100000\n",
      "Critical Values:\n",
      "\t10%: 0.347\n",
      "\t5%: 0.463\n",
      "\t2.5%: 0.574\n",
      "\t1%: 0.739\n"
     ]
    }
   ],
   "source": [
    "# KPSS test\n",
    "# Null hypothesis: series is level stationary\n",
    "\n",
    "results_st=sm.tsa.stattools.kpss(diff_X_12, regression='c')\n",
    "print('KPSS Statistic: %f' % results_st[0])\n",
    "print('p-value: %f' % results_st[1])\n",
    "print('Critical Values:')\n",
    "for key, value in results_st[3].items():\n",
    "    print('\\t%s: %.3f' % (key, value))"
   ]
  },
  {
   "cell_type": "code",
   "execution_count": 91,
   "metadata": {},
   "outputs": [
    {
     "name": "stdout",
     "output_type": "stream",
     "text": [
      "KPSS Statistic: 0.154306\n",
      "p-value: 0.043078\n",
      "Critical Values:\n",
      "\t10%: 0.119\n",
      "\t5%: 0.146\n",
      "\t2.5%: 0.176\n",
      "\t1%: 0.216\n"
     ]
    }
   ],
   "source": [
    "# KPSS test\n",
    "# Null hypothesis: series is trend stationary\n",
    "\n",
    "results_st=sm.tsa.stattools.kpss(diff_X_12, regression='ct')\n",
    "print('KPSS Statistic: %f' % results_st[0])\n",
    "print('p-value: %f' % results_st[1])\n",
    "print('Critical Values:')\n",
    "for key, value in results_st[3].items():\n",
    "    print('\\t%s: %.3f' % (key, value))"
   ]
  },
  {
   "cell_type": "markdown",
   "metadata": {},
   "source": [
    "### KPSS test results: At 5% level, the treated series is level stationary however, we fail to reject the hypothesis that it is trend stationary."
   ]
  },
  {
   "cell_type": "code",
   "execution_count": 94,
   "metadata": {},
   "outputs": [
    {
     "data": {
      "image/png": "[encoded data removed]",
      "text/plain": [
       "<Figure size 1080x360 with 2 Axes>"
      ]
     },
     "metadata": {
      "needs_background": "light"
     },
     "output_type": "display_data"
    }
   ],
   "source": [
    "# ACF, PACF plots:\n",
    "fig, ax=plt.subplots(1,2, figsize=(15,5))\n",
    "\n",
    "acf_plot=plot_acf(diff_X_12, alpha=0.05, ax=ax[0])\n",
    "pacf_plot=plot_pacf(diff_X_12,alpha=0.05, ax=ax[1])\n",
    "plt.show()"
   ]
  },
  {
   "cell_type": "markdown",
   "metadata": {},
   "source": [
    "#### The above plots indicate ARIMA(0,1,0) for the original series\n",
    "\n",
    "\n",
    "### Given the seasonal nature of the monthly sales, we apply SARIMA. "
   ]
  },
  {
   "cell_type": "code",
   "execution_count": 100,
   "metadata": {},
   "outputs": [
    {
     "name": "stdout",
     "output_type": "stream",
     "text": [
      "Examples of parameter combinations for Seasonal ARIMA...\n",
      "SARIMAX: (0, 0, 1) x (0, 0, 1, 12)\n",
      "SARIMAX: (0, 0, 1) x (0, 1, 0, 12)\n"
     ]
    }
   ],
   "source": [
    "# different combinations of p,d,q are tried \n",
    "p=d=q=range(0,2)\n",
    "pdq=list(itertools.product(p,d,q))\n",
    "seasonality=[(x[0],x[1],x[2],12) for x in pdq]\n",
    "\n",
    "print('Examples of parameter combinations for Seasonal ARIMA...')\n",
    "print('SARIMAX: {} x {}'.format(pdq[1], seasonality[1]))\n",
    "print('SARIMAX: {} x {}'.format(pdq[1], seasonality[2]))"
   ]
  },
  {
   "cell_type": "code",
   "execution_count": 107,
   "metadata": {},
   "outputs": [
    {
     "name": "stdout",
     "output_type": "stream",
     "text": [
      "ARIMA (0, 0, 0)x(0, 0, 0, 12)12- AIC:699.5809860191692\n",
      "ARIMA (0, 0, 0)x(0, 1, 0, 12)12- AIC:380.7859006231182\n",
      "ARIMA (0, 0, 0)x(1, 0, 0, 12)12- AIC:354.8651641479604\n",
      "ARIMA (0, 0, 0)x(1, 1, 0, 12)12- AIC:165.4897459392639\n",
      "ARIMA (0, 0, 1)x(0, 0, 0, 12)12- AIC:658.2672355171732\n",
      "ARIMA (0, 0, 1)x(0, 1, 0, 12)12- AIC:355.33037126604444\n",
      "ARIMA (0, 0, 1)x(1, 0, 0, 12)12- AIC:350.2937500144994\n",
      "ARIMA (0, 0, 1)x(1, 1, 0, 12)12- AIC:166.33841391591375\n",
      "ARIMA (0, 1, 0)x(0, 0, 0, 12)12- AIC:582.6163384620003\n",
      "ARIMA (0, 1, 0)x(0, 1, 0, 12)12- AIC:330.56832974322765\n",
      "ARIMA (0, 1, 0)x(1, 0, 0, 12)12- AIC:345.6057084259274\n",
      "ARIMA (0, 1, 0)x(1, 1, 0, 12)12- AIC:147.35197078359764\n",
      "ARIMA (0, 1, 1)x(0, 0, 0, 12)12- AIC:562.4217915179441\n",
      "ARIMA (0, 1, 1)x(0, 1, 0, 12)12- AIC:300.9589564308218\n",
      "ARIMA (0, 1, 1)x(1, 0, 0, 12)12- AIC:347.1807273633833\n",
      "ARIMA (0, 1, 1)x(1, 1, 0, 12)12- AIC:143.67688792256752\n",
      "ARIMA (1, 0, 0)x(0, 0, 0, 12)12- AIC:601.1164998281372\n",
      "ARIMA (1, 0, 0)x(0, 1, 0, 12)12- AIC:349.44288020670126\n",
      "ARIMA (1, 0, 0)x(1, 0, 0, 12)12- AIC:334.1591328067626\n",
      "ARIMA (1, 0, 0)x(1, 1, 0, 12)12- AIC:149.3004340381044\n",
      "ARIMA (1, 0, 1)x(0, 0, 0, 12)12- AIC:581.2119861956041\n",
      "ARIMA (1, 0, 1)x(0, 1, 0, 12)12- AIC:333.0679702087266\n",
      "ARIMA (1, 0, 1)x(1, 0, 0, 12)12- AIC:332.33169463269945\n",
      "ARIMA (1, 0, 1)x(1, 1, 0, 12)12- AIC:145.93732166955832\n",
      "ARIMA (1, 1, 0)x(0, 0, 0, 12)12- AIC:582.1437044320901\n",
      "ARIMA (1, 1, 0)x(0, 1, 0, 12)12- AIC:329.97404064987865\n",
      "ARIMA (1, 1, 0)x(1, 0, 0, 12)12- AIC:329.4467811657746\n",
      "ARIMA (1, 1, 0)x(1, 1, 0, 12)12- AIC:130.44524499933476\n",
      "ARIMA (1, 1, 1)x(0, 0, 0, 12)12- AIC:564.1631833156283\n",
      "ARIMA (1, 1, 1)x(0, 1, 0, 12)12- AIC:301.9353720488287\n",
      "ARIMA (1, 1, 1)x(1, 0, 0, 12)12- AIC:323.11931603209007\n",
      "ARIMA (1, 1, 1)x(1, 1, 0, 12)12- AIC:130.06111559785776\n"
     ]
    }
   ],
   "source": [
    "# The below performs a grid search to identify the best combination of parameters based on minimum AIC\n",
    "\n",
    "values=list()\n",
    "for para in pdq:\n",
    "    for para_seas in seasonality:\n",
    "        try:\n",
    "            mod=sm.tsa.statespace.SARIMAX(X, order=para, seasonal_order=para_seas, enforce_stationarity=False, enforce_invertibility=False)\n",
    "\n",
    "            results=mod.fit()\n",
    "            values.append(results.aic)\n",
    "            print(\"ARIMA {}x{}12- AIC:{}\".format(para, para_seas, results.aic))\n",
    "        except:\n",
    "            continue\n"
   ]
  },
  {
   "cell_type": "code",
   "execution_count": 113,
   "metadata": {},
   "outputs": [
    {
     "data": {
      "text/plain": [
       "130.06111559785776"
      ]
     },
     "execution_count": 113,
     "metadata": {},
     "output_type": "execute_result"
    }
   ],
   "source": [
    "# Minimum AIC is observed for \n",
    "Series(values).min()"
   ]
  },
  {
   "cell_type": "markdown",
   "metadata": {},
   "source": [
    "### Given the above results, the best model for the monthly sales is SARIMAX: (1, 1, 1) x (1, 1, 0, 12)"
   ]
  },
  {
   "cell_type": "code",
   "execution_count": 131,
   "metadata": {},
   "outputs": [
    {
     "name": "stdout",
     "output_type": "stream",
     "text": [
      "                                 Statespace Model Results                                 \n",
      "==========================================================================================\n",
      "Dep. Variable:                      monthly_sales   No. Observations:                   34\n",
      "Model:             SARIMAX(1, 1, 1)x(1, 1, 0, 12)   Log Likelihood                 -61.031\n",
      "Date:                            Mon, 18 May 2020   AIC                            130.061\n",
      "Time:                                    18:22:08   BIC                            130.379\n",
      "Sample:                                         0   HQIC                           127.918\n",
      "                                             - 34                                         \n",
      "Covariance Type:                              opg                                         \n",
      "==============================================================================\n",
      "                 coef    std err          z      P>|z|      [0.025      0.975]\n",
      "------------------------------------------------------------------------------\n",
      "ar.L1          0.1123      0.433      0.259      0.795      -0.737       0.961\n",
      "ma.L1         -1.0000      0.927     -1.079      0.281      -2.817       0.817\n",
      "ar.S.L12       0.0174      0.051      0.339      0.735      -0.083       0.118\n",
      "sigma2      2.359e+05   3.93e-06      6e+10      0.000    2.36e+05    2.36e+05\n",
      "===================================================================================\n",
      "Ljung-Box (Q):                         nan   Jarque-Bera (JB):                 0.50\n",
      "Prob(Q):                               nan   Prob(JB):                         0.78\n",
      "Heteroskedasticity (H):               2.19   Skew:                            -0.14\n",
      "Prob(H) (two-sided):                  0.54   Kurtosis:                         1.81\n",
      "===================================================================================\n",
      "\n",
      "Warnings:\n",
      "[1] Covariance matrix calculated using the outer product of gradients (complex-step).\n",
      "[2] Covariance matrix is singular or near-singular, with condition number 3.14e+26. Standard errors may be unstable.\n"
     ]
    }
   ],
   "source": [
    "# Final ARIMA model results\n",
    "\n",
    "model=sm.tsa.statespace.SARIMAX(X, order=(1,1,1), seasonal_order=(1,1,0,12), enforce_stationarity=False, enforce_invertibility=False)\n",
    "results=model.fit()\n",
    "\n",
    "print(results.summary())"
   ]
  },
  {
   "cell_type": "markdown",
   "metadata": {},
   "source": [
    "### Residual Analysis"
   ]
  },
  {
   "cell_type": "code",
   "execution_count": 175,
   "metadata": {},
   "outputs": [
    {
     "data": {
      "image/png": "[encoded data removed]",
      "text/plain": [
       "<Figure size 432x288 with 1 Axes>"
      ]
     },
     "metadata": {
      "needs_background": "light"
     },
     "output_type": "display_data"
    },
    {
     "data": {
      "image/png": "[encoded data removed]",
      "text/plain": [
       "<Figure size 432x288 with 1 Axes>"
      ]
     },
     "metadata": {
      "needs_background": "light"
     },
     "output_type": "display_data"
    },
    {
     "data": {
      "image/png": "[encoded data removed]",
      "text/plain": [
       "<Figure size 432x288 with 1 Axes>"
      ]
     },
     "metadata": {
      "needs_background": "light"
     },
     "output_type": "display_data"
    },
    {
     "data": {
      "image/png": "[encoded data removed]",
      "text/plain": [
       "<Figure size 1080x360 with 2 Axes>"
      ]
     },
     "metadata": {
      "needs_background": "light"
     },
     "output_type": "display_data"
    }
   ],
   "source": [
    "residuals=results.resid\n",
    "\n",
    "#1. plot the standardized residuals\n",
    "\n",
    "plt.plot(residuals)\n",
    "plt.axhline(y=0, color='k', linestyle='-')\n",
    "plt.title(\"Standardized residuals\")\n",
    "plt.show()\n",
    "\n",
    "#2. plot the histogram\n",
    "\n",
    "# Fit a normal distribution to the data:\n",
    "mu, std = stats.norm.fit(residuals)\n",
    "\n",
    "plt.hist(residuals, density=True, alpha=0.6)\n",
    "xmin, xmax = plt.xlim()\n",
    "x = np.linspace(xmin, xmax, 100)\n",
    "plt.plot(x, stats.norm.pdf(x, mu, std), 'k', linewidth=2)\n",
    "title = \"Fit results: mu = %.2f,  std = %.2f\" % (mu, std)\n",
    "plt.title(title)\n",
    "plt.show()\n",
    "\n",
    "#3.QQ plot\n",
    "sm.qqplot(residuals, line='s')\n",
    "plt.title(\"QQ-plot\")\n",
    "plt.show()\n",
    "\n",
    "#4, ACF, PACF plots\n",
    "fig, ax=plt.subplots(1,2, figsize=(15,5))\n",
    "\n",
    "acf_plot=plot_acf(residuals, alpha=0.05, ax=ax[0])\n",
    "pacf_plot=plot_pacf(residuals,alpha=0.05, ax=ax[1])\n",
    "plt.show()"
   ]
  },
  {
   "cell_type": "code",
   "execution_count": 185,
   "metadata": {},
   "outputs": [
    {
     "name": "stdout",
     "output_type": "stream",
     "text": [
      "Q*: 2.043302\n",
      "pvalue: 0.995997\n"
     ]
    }
   ],
   "source": [
    "# 5. Ljung-box test\n",
    "resid_acorr=sm.stats.acorr_ljungbox(residuals, lags=[10], boxpierce=False)\n",
    "print('Q*: %2f' % resid_acorr[0])\n",
    "print('pvalue: %2f' % resid_acorr[1])"
   ]
  },
  {
   "cell_type": "markdown",
   "metadata": {},
   "source": [
    "####  It is observed that the p-value is quite large and Q* (test statistic) is small hence, we do not reject the null hypothesis of the Ljung-box test. The model is deemed adequate.  \n",
    "#### Based on above analysis, it is concluded that the residuals are white noise."
   ]
  },
  {
   "cell_type": "markdown",
   "metadata": {},
   "source": [
    "### Model Prediction"
   ]
  },
  {
   "cell_type": "code",
   "execution_count": 275,
   "metadata": {},
   "outputs": [
    {
     "data": {
      "text/html": [
       "<div>\n",
       "<style scoped>\n",
       "    .dataframe tbody tr th:only-of-type {\n",
       "        vertical-align: middle;\n",
       "    }\n",
       "\n",
       "    .dataframe tbody tr th {\n",
       "        vertical-align: top;\n",
       "    }\n",
       "\n",
       "    .dataframe thead th {\n",
       "        text-align: right;\n",
       "    }\n",
       "</style>\n",
       "<table border=\"1\" class=\"dataframe\">\n",
       "  <thead>\n",
       "    <tr style=\"text-align: right;\">\n",
       "      <th></th>\n",
       "      <th>index</th>\n",
       "      <th>actual_sales</th>\n",
       "    </tr>\n",
       "  </thead>\n",
       "  <tbody>\n",
       "    <tr>\n",
       "      <td>0</td>\n",
       "      <td>2013-01-01</td>\n",
       "      <td>10173.0</td>\n",
       "    </tr>\n",
       "    <tr>\n",
       "      <td>1</td>\n",
       "      <td>2013-02-01</td>\n",
       "      <td>11160.0</td>\n",
       "    </tr>\n",
       "    <tr>\n",
       "      <td>2</td>\n",
       "      <td>2013-03-01</td>\n",
       "      <td>12670.0</td>\n",
       "    </tr>\n",
       "    <tr>\n",
       "      <td>3</td>\n",
       "      <td>2013-04-01</td>\n",
       "      <td>9621.0</td>\n",
       "    </tr>\n",
       "    <tr>\n",
       "      <td>4</td>\n",
       "      <td>2013-05-01</td>\n",
       "      <td>9423.0</td>\n",
       "    </tr>\n",
       "  </tbody>\n",
       "</table>\n",
       "</div>"
      ],
      "text/plain": [
       "       index  actual_sales\n",
       "0 2013-01-01       10173.0\n",
       "1 2013-02-01       11160.0\n",
       "2 2013-03-01       12670.0\n",
       "3 2013-04-01        9621.0\n",
       "4 2013-05-01        9423.0"
      ]
     },
     "execution_count": 275,
     "metadata": {},
     "output_type": "execute_result"
    }
   ],
   "source": [
    "#let's add the dates back as index\n",
    "X.index=pd.date_range(start='2013-01-01', end='2015-10-01', freq='MS')\n",
    "Y=X.reset_index()\n",
    "Y.rename(columns={'monthly_sales':'actual_sales'}, inplace=True)\n",
    "Y.head()"
   ]
  },
  {
   "cell_type": "code",
   "execution_count": 276,
   "metadata": {},
   "outputs": [
    {
     "data": {
      "text/html": [
       "<div>\n",
       "<style scoped>\n",
       "    .dataframe tbody tr th:only-of-type {\n",
       "        vertical-align: middle;\n",
       "    }\n",
       "\n",
       "    .dataframe tbody tr th {\n",
       "        vertical-align: top;\n",
       "    }\n",
       "\n",
       "    .dataframe thead th {\n",
       "        text-align: right;\n",
       "    }\n",
       "</style>\n",
       "<table border=\"1\" class=\"dataframe\">\n",
       "  <thead>\n",
       "    <tr style=\"text-align: right;\">\n",
       "      <th></th>\n",
       "      <th>index</th>\n",
       "      <th>actual_sales</th>\n",
       "      <th>forecasted_sales</th>\n",
       "    </tr>\n",
       "  </thead>\n",
       "  <tbody>\n",
       "    <tr>\n",
       "      <td>0</td>\n",
       "      <td>2013-01-01</td>\n",
       "      <td>10173.0</td>\n",
       "      <td>0.00</td>\n",
       "    </tr>\n",
       "    <tr>\n",
       "      <td>1</td>\n",
       "      <td>2013-02-01</td>\n",
       "      <td>11160.0</td>\n",
       "      <td>10553.78</td>\n",
       "    </tr>\n",
       "    <tr>\n",
       "      <td>2</td>\n",
       "      <td>2013-03-01</td>\n",
       "      <td>12670.0</td>\n",
       "      <td>11176.79</td>\n",
       "    </tr>\n",
       "    <tr>\n",
       "      <td>3</td>\n",
       "      <td>2013-04-01</td>\n",
       "      <td>9621.0</td>\n",
       "      <td>12625.65</td>\n",
       "    </tr>\n",
       "    <tr>\n",
       "      <td>4</td>\n",
       "      <td>2013-05-01</td>\n",
       "      <td>9423.0</td>\n",
       "      <td>9708.32</td>\n",
       "    </tr>\n",
       "    <tr>\n",
       "      <td>5</td>\n",
       "      <td>2013-06-01</td>\n",
       "      <td>10072.0</td>\n",
       "      <td>9441.57</td>\n",
       "    </tr>\n",
       "    <tr>\n",
       "      <td>6</td>\n",
       "      <td>2013-07-01</td>\n",
       "      <td>9500.0</td>\n",
       "      <td>10054.72</td>\n",
       "    </tr>\n",
       "    <tr>\n",
       "      <td>7</td>\n",
       "      <td>2013-08-01</td>\n",
       "      <td>9882.0</td>\n",
       "      <td>9515.10</td>\n",
       "    </tr>\n",
       "    <tr>\n",
       "      <td>8</td>\n",
       "      <td>2013-09-01</td>\n",
       "      <td>11204.0</td>\n",
       "      <td>9872.43</td>\n",
       "    </tr>\n",
       "    <tr>\n",
       "      <td>9</td>\n",
       "      <td>2013-10-01</td>\n",
       "      <td>10754.0</td>\n",
       "      <td>11162.03</td>\n",
       "    </tr>\n",
       "    <tr>\n",
       "      <td>10</td>\n",
       "      <td>2013-11-01</td>\n",
       "      <td>11710.0</td>\n",
       "      <td>10761.82</td>\n",
       "    </tr>\n",
       "    <tr>\n",
       "      <td>11</td>\n",
       "      <td>2013-12-01</td>\n",
       "      <td>16318.0</td>\n",
       "      <td>11681.75</td>\n",
       "    </tr>\n",
       "    <tr>\n",
       "      <td>12</td>\n",
       "      <td>2014-01-01</td>\n",
       "      <td>10017.0</td>\n",
       "      <td>23026.59</td>\n",
       "    </tr>\n",
       "    <tr>\n",
       "      <td>13</td>\n",
       "      <td>2014-02-01</td>\n",
       "      <td>9728.0</td>\n",
       "      <td>11458.50</td>\n",
       "    </tr>\n",
       "    <tr>\n",
       "      <td>14</td>\n",
       "      <td>2014-03-01</td>\n",
       "      <td>9643.0</td>\n",
       "      <td>12049.29</td>\n",
       "    </tr>\n",
       "    <tr>\n",
       "      <td>15</td>\n",
       "      <td>2014-04-01</td>\n",
       "      <td>8897.0</td>\n",
       "      <td>8032.42</td>\n",
       "    </tr>\n",
       "    <tr>\n",
       "      <td>16</td>\n",
       "      <td>2014-05-01</td>\n",
       "      <td>7826.0</td>\n",
       "      <td>8301.88</td>\n",
       "    </tr>\n",
       "    <tr>\n",
       "      <td>17</td>\n",
       "      <td>2014-06-01</td>\n",
       "      <td>7701.0</td>\n",
       "      <td>8767.88</td>\n",
       "    </tr>\n",
       "    <tr>\n",
       "      <td>18</td>\n",
       "      <td>2014-07-01</td>\n",
       "      <td>7056.0</td>\n",
       "      <td>7928.73</td>\n",
       "    </tr>\n",
       "    <tr>\n",
       "      <td>19</td>\n",
       "      <td>2014-08-01</td>\n",
       "      <td>8248.0</td>\n",
       "      <td>8184.62</td>\n",
       "    </tr>\n",
       "    <tr>\n",
       "      <td>20</td>\n",
       "      <td>2014-09-01</td>\n",
       "      <td>8583.0</td>\n",
       "      <td>9618.53</td>\n",
       "    </tr>\n",
       "    <tr>\n",
       "      <td>21</td>\n",
       "      <td>2014-10-01</td>\n",
       "      <td>8457.0</td>\n",
       "      <td>8936.79</td>\n",
       "    </tr>\n",
       "    <tr>\n",
       "      <td>22</td>\n",
       "      <td>2014-11-01</td>\n",
       "      <td>9865.0</td>\n",
       "      <td>9891.31</td>\n",
       "    </tr>\n",
       "    <tr>\n",
       "      <td>23</td>\n",
       "      <td>2014-12-01</td>\n",
       "      <td>14610.0</td>\n",
       "      <td>14597.75</td>\n",
       "    </tr>\n",
       "    <tr>\n",
       "      <td>24</td>\n",
       "      <td>2015-01-01</td>\n",
       "      <td>8815.0</td>\n",
       "      <td>8155.29</td>\n",
       "    </tr>\n",
       "    <tr>\n",
       "      <td>25</td>\n",
       "      <td>2015-02-01</td>\n",
       "      <td>7404.0</td>\n",
       "      <td>7969.15</td>\n",
       "    </tr>\n",
       "    <tr>\n",
       "      <td>26</td>\n",
       "      <td>2015-03-01</td>\n",
       "      <td>7294.0</td>\n",
       "      <td>7692.19</td>\n",
       "    </tr>\n",
       "    <tr>\n",
       "      <td>27</td>\n",
       "      <td>2015-04-01</td>\n",
       "      <td>7341.0</td>\n",
       "      <td>6959.89</td>\n",
       "    </tr>\n",
       "    <tr>\n",
       "      <td>28</td>\n",
       "      <td>2015-05-01</td>\n",
       "      <td>6327.0</td>\n",
       "      <td>5982.20</td>\n",
       "    </tr>\n",
       "    <tr>\n",
       "      <td>29</td>\n",
       "      <td>2015-06-01</td>\n",
       "      <td>6160.0</td>\n",
       "      <td>5872.24</td>\n",
       "    </tr>\n",
       "    <tr>\n",
       "      <td>30</td>\n",
       "      <td>2015-07-01</td>\n",
       "      <td>5987.0</td>\n",
       "      <td>5238.84</td>\n",
       "    </tr>\n",
       "    <tr>\n",
       "      <td>31</td>\n",
       "      <td>2015-08-01</td>\n",
       "      <td>5714.0</td>\n",
       "      <td>6537.70</td>\n",
       "    </tr>\n",
       "    <tr>\n",
       "      <td>32</td>\n",
       "      <td>2015-09-01</td>\n",
       "      <td>6505.0</td>\n",
       "      <td>6648.00</td>\n",
       "    </tr>\n",
       "    <tr>\n",
       "      <td>33</td>\n",
       "      <td>2015-10-01</td>\n",
       "      <td>6112.0</td>\n",
       "      <td>6573.94</td>\n",
       "    </tr>\n",
       "  </tbody>\n",
       "</table>\n",
       "</div>"
      ],
      "text/plain": [
       "        index  actual_sales  forecasted_sales\n",
       "0  2013-01-01       10173.0              0.00\n",
       "1  2013-02-01       11160.0          10553.78\n",
       "2  2013-03-01       12670.0          11176.79\n",
       "3  2013-04-01        9621.0          12625.65\n",
       "4  2013-05-01        9423.0           9708.32\n",
       "5  2013-06-01       10072.0           9441.57\n",
       "6  2013-07-01        9500.0          10054.72\n",
       "7  2013-08-01        9882.0           9515.10\n",
       "8  2013-09-01       11204.0           9872.43\n",
       "9  2013-10-01       10754.0          11162.03\n",
       "10 2013-11-01       11710.0          10761.82\n",
       "11 2013-12-01       16318.0          11681.75\n",
       "12 2014-01-01       10017.0          23026.59\n",
       "13 2014-02-01        9728.0          11458.50\n",
       "14 2014-03-01        9643.0          12049.29\n",
       "15 2014-04-01        8897.0           8032.42\n",
       "16 2014-05-01        7826.0           8301.88\n",
       "17 2014-06-01        7701.0           8767.88\n",
       "18 2014-07-01        7056.0           7928.73\n",
       "19 2014-08-01        8248.0           8184.62\n",
       "20 2014-09-01        8583.0           9618.53\n",
       "21 2014-10-01        8457.0           8936.79\n",
       "22 2014-11-01        9865.0           9891.31\n",
       "23 2014-12-01       14610.0          14597.75\n",
       "24 2015-01-01        8815.0           8155.29\n",
       "25 2015-02-01        7404.0           7969.15\n",
       "26 2015-03-01        7294.0           7692.19\n",
       "27 2015-04-01        7341.0           6959.89\n",
       "28 2015-05-01        6327.0           5982.20\n",
       "29 2015-06-01        6160.0           5872.24\n",
       "30 2015-07-01        5987.0           5238.84\n",
       "31 2015-08-01        5714.0           6537.70\n",
       "32 2015-09-01        6505.0           6648.00\n",
       "33 2015-10-01        6112.0           6573.94"
      ]
     },
     "execution_count": 276,
     "metadata": {},
     "output_type": "execute_result"
    }
   ],
   "source": [
    "# predict the sales for the training months\n",
    "Y['forecasted_sales']=round(results.predict(start=0, end=len(X)),2)\n",
    "# we do not need to re-transform or invert the predicted value as the model was applied to the original series\n",
    "Y.head(35)"
   ]
  },
  {
   "cell_type": "markdown",
   "metadata": {},
   "source": [
    "#### Model Performance"
   ]
  },
  {
   "cell_type": "code",
   "execution_count": 277,
   "metadata": {},
   "outputs": [
    {
     "name": "stdout",
     "output_type": "stream",
     "text": [
      "Mean squared error: 9568156.69\n",
      "Root mean squared error (RMSE): 3093.24\n"
     ]
    }
   ],
   "source": [
    "#Validate forecasts\n",
    "\n",
    "mse=((Y['actual_sales']-Y['forecasted_sales'])**2).mean()\n",
    "print('Mean squared error: {}'.format(round(mse,2)))\n",
    "print('Root mean squared error (RMSE): {}'.format(round(np.sqrt(mse),2)))"
   ]
  },
  {
   "cell_type": "code",
   "execution_count": 278,
   "metadata": {},
   "outputs": [
    {
     "name": "stdout",
     "output_type": "stream",
     "text": [
      "CERRPCT: 1.35%\n"
     ]
    }
   ],
   "source": [
    "#CERRPCT- abs(total actual- total predicted)/total actual\n",
    "\n",
    "cerrpct=round((np.abs(Y['actual_sales'].sum()-Y['forecasted_sales'].sum())/Y['actual_sales'].sum())*100,2)\n",
    "print('CERRPCT: {}%'.format(cerrpct))"
   ]
  },
  {
   "cell_type": "code",
   "execution_count": 289,
   "metadata": {},
   "outputs": [
    {
     "data": {
      "image/png": "[encoded data removed]",
      "text/plain": [
       "<Figure size 432x288 with 1 Axes>"
      ]
     },
     "metadata": {
      "needs_background": "light"
     },
     "output_type": "display_data"
    }
   ],
   "source": [
    "#Plot the actual vs predicted sales\n",
    "sns.lineplot(Y['index'],Y['actual_sales'])\n",
    "sns.lineplot(Y['index'],Y['forecasted_sales'])\n",
    "plt.xticks(rotation=45)\n",
    "plt.ylabel('Sales')\n",
    "plt.title('Actual vs forecasted monthly sales')\n",
    "plt.show()"
   ]
  },
  {
   "cell_type": "markdown",
   "metadata": {},
   "source": [
    "#### Out of sample forecasts"
   ]
  },
  {
   "cell_type": "code",
   "execution_count": 295,
   "metadata": {},
   "outputs": [
    {
     "data": {
      "text/plain": [
       "32     6648.004456\n",
       "33     6573.941447\n",
       "34     7938.102294\n",
       "35    12731.554385\n",
       "36     6950.543108\n",
       "dtype: float64"
      ]
     },
     "execution_count": 295,
     "metadata": {},
     "output_type": "execute_result"
    }
   ],
   "source": [
    "# let's predict for the next 3 months- Nov'2015-Jan'2016 \n",
    "forecasts=results.predict(start=len(X)-2, end=len(X)+2)\n",
    "forecasts.head()"
   ]
  },
  {
   "cell_type": "code",
   "execution_count": 296,
   "metadata": {},
   "outputs": [
    {
     "data": {
      "image/png": "[encoded data removed]",
      "text/plain": [
       "<Figure size 432x288 with 1 Axes>"
      ]
     },
     "metadata": {
      "needs_background": "light"
     },
     "output_type": "display_data"
    }
   ],
   "source": [
    "#Plot the forecasted sales\n",
    "plt.plot(Y['actual_sales'])\n",
    "plt.plot(forecasts)\n",
    "plt.ylabel('Sales')\n",
    "plt.title('Forecasted monthly sales')\n",
    "plt.show()"
   ]
  },
  {
   "cell_type": "markdown",
   "metadata": {},
   "source": [
    "### GARCH"
   ]
  },
  {
   "cell_type": "code",
   "execution_count": null,
   "metadata": {},
   "outputs": [],
   "source": [
    "### Prophet and GARCH"
   ]
  }
 ],
 "metadata": {
  "kernelspec": {
   "display_name": "Python 3",
   "language": "python",
   "name": "python3"
  },
  "language_info": {
   "codemirror_mode": {
    "name": "ipython",
    "version": 3
   },
   "file_extension": ".py",
   "mimetype": "text/x-python",
   "name": "python",
   "nbconvert_exporter": "python",
   "pygments_lexer": "ipython3",
   "version": "3.7.4"
  }
 },
 "nbformat": 4,
 "nbformat_minor": 2
}
